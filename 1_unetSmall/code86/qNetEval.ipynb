{
 "cells": [
  {
   "cell_type": "markdown",
   "metadata": {},
   "source": [
    "# quantResultAnal"
   ]
  },
  {
   "cell_type": "code",
   "execution_count": 1,
   "metadata": {},
   "outputs": [],
   "source": [
    "import sys,os\n",
    "sys.path.append('/data/solai/aiArmory/pytorch/')\n",
    "from armoInclude import *"
   ]
  },
  {
   "cell_type": "markdown",
   "metadata": {},
   "source": [
    "### large bestQ estimation"
   ]
  },
  {
   "cell_type": "code",
   "execution_count": 2,
   "metadata": {},
   "outputs": [
    {
     "name": "stdout",
     "output_type": "stream",
     "text": [
      "Estimated model size: 1109.36 KB\n"
     ]
    }
   ],
   "source": [
    "qun_model = torch.load('/data/tinyai/maxCNN/testA_unet/best-fakept-q.pth.tar')\n",
    "state_dict = qun_model['state_dict']\n",
    "state_dict_size = sum(tensor.nelement() * tensor.element_size() for tensor in state_dict.values())\n",
    "print(f\"Estimated model size: {state_dict_size / 1024:.2f} KB\")\n",
    "\n"
   ]
  },
  {
   "cell_type": "markdown",
   "metadata": {},
   "source": [
    "### mySmall bestQ estimation"
   ]
  },
  {
   "cell_type": "code",
   "execution_count": 3,
   "metadata": {},
   "outputs": [
    {
     "name": "stdout",
     "output_type": "stream",
     "text": [
      "Estimated model size: 444.69 KB\n"
     ]
    }
   ],
   "source": [
    "qun_model = torch.load('/data/tinyai/maxCNN/testB_unet/best-fakept-q.pth.tar')\n",
    "state_dict = qun_model['state_dict']\n",
    "state_dict_size = sum(tensor.nelement() * tensor.element_size() for tensor in state_dict.values())\n",
    "print(f\"Estimated model size: {state_dict_size / 1024:.2f} KB\")\n"
   ]
  }
 ],
 "metadata": {
  "kernelspec": {
   "display_name": "Python 3 (ipykernel)",
   "language": "python",
   "name": "python3"
  },
  "language_info": {
   "codemirror_mode": {
    "name": "ipython",
    "version": 3
   },
   "file_extension": ".py",
   "mimetype": "text/x-python",
   "name": "python",
   "nbconvert_exporter": "python",
   "pygments_lexer": "ipython3",
   "version": "3.11.8"
  }
 },
 "nbformat": 4,
 "nbformat_minor": 2
}
